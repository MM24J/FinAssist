{
  "nbformat": 4,
  "nbformat_minor": 0,
  "metadata": {
    "colab": {
      "provenance": [],
      "authorship_tag": "ABX9TyPtxStAK/zTYaoojYAGLhN1",
      "include_colab_link": true
    },
    "kernelspec": {
      "name": "python3",
      "display_name": "Python 3"
    },
    "language_info": {
      "name": "python"
    }
  },
  "cells": [
    {
      "cell_type": "markdown",
      "metadata": {
        "id": "view-in-github",
        "colab_type": "text"
      },
      "source": [
        "<a href=\"https://colab.research.google.com/github/MM24J/FinAssist/blob/main/notebooks/FinAssist_Project.ipynb\" target=\"_parent\"><img src=\"https://colab.research.google.com/assets/colab-badge.svg\" alt=\"Open In Colab\"/></a>"
      ]
    },
    {
      "cell_type": "code",
      "execution_count": 3,
      "metadata": {
        "colab": {
          "base_uri": "https://localhost:8080/"
        },
        "id": "4acjS_SEZky6",
        "outputId": "e89e1899-1e03-4322-9a30-3b0f455cd16d"
      },
      "outputs": [
        {
          "output_type": "stream",
          "name": "stdout",
          "text": [
            "Cloning into 'FinAssist'...\n",
            "remote: Enumerating objects: 9, done.\u001b[K\n",
            "remote: Counting objects: 100% (9/9), done.\u001b[K\n",
            "remote: Compressing objects: 100% (3/3), done.\u001b[K\n",
            "remote: Total 9 (delta 0), reused 6 (delta 0), pack-reused 0 (from 0)\u001b[K\n",
            "Receiving objects: 100% (9/9), done.\n",
            "/content/FinAssist\n",
            "Repo ready: /content/FinAssist\n"
          ]
        }
      ],
      "source": [
        "# Setup GitHub repo in Colab\n",
        "\n",
        "import os\n",
        "\n",
        "REPO_URL = 'https://github.com/MM24J/FinAssist'\n",
        "REPO_NAME = 'FinAssist'\n",
        "\n",
        "# Clone or Pull latest changes\n",
        "\n",
        "if os.path.exists(REPO_NAME):\n",
        "  %cd {REPO_NAME}\n",
        "  !git pull\n",
        "else:\n",
        "  !git clone {REPO_URL}\n",
        "  %cd {REPO_NAME}\n",
        "\n",
        "# Set up git config\n",
        "\n",
        "!git config --global user.email \"mayermelissa033@gmail.com\"\n",
        "!git config --global user.name \"Melissa Mayer\"\n",
        "\n",
        "print(\"Repo ready:\", os.getcwd())"
      ]
    },
    {
      "cell_type": "code",
      "source": [
        "!mkdir -p notebooks\n",
        "%cd notebooks\n"
      ],
      "metadata": {
        "colab": {
          "base_uri": "https://localhost:8080/"
        },
        "id": "OHMuLl_fqtBd",
        "outputId": "75c31d2b-675d-460f-e518-376653b9951b"
      },
      "execution_count": 5,
      "outputs": [
        {
          "output_type": "stream",
          "name": "stdout",
          "text": [
            "/content/FinAssist/notebooks/notebooks\n"
          ]
        }
      ]
    },
    {
      "cell_type": "code",
      "source": [
        "# Remove extra folder\n",
        "\n",
        "%cd /content/FinAssist\n",
        "!rm -rf p\n",
        "!ls -l"
      ],
      "metadata": {
        "colab": {
          "base_uri": "https://localhost:8080/"
        },
        "id": "KuSvkmRluCQy",
        "outputId": "ba69ad7a-8d1f-40f1-b7c2-6bdfab9ff1cd"
      },
      "execution_count": 6,
      "outputs": [
        {
          "output_type": "stream",
          "name": "stdout",
          "text": [
            "/content/FinAssist\n",
            "total 20\n",
            "drwxr-xr-x 2 root root 4096 Aug 24 15:21 -\n",
            "drwxr-xr-x 2 root root 4096 Aug 24 15:20 data\n",
            "drwxr-xr-x 2 root root 4096 Aug 24 15:20 finassist\n",
            "drwxr-xr-x 3 root root 4096 Aug 24 15:35 notebooks\n",
            "-rw-r--r-- 1 root root   11 Aug 24 15:20 README.md\n"
          ]
        }
      ]
    },
    {
      "cell_type": "code",
      "source": [
        "!rm -rf ./-\n",
        "!ls -l"
      ],
      "metadata": {
        "colab": {
          "base_uri": "https://localhost:8080/"
        },
        "id": "ZGxfbJ0YubGV",
        "outputId": "e5e3e373-5f58-4cb0-df99-1ec52e4234c2"
      },
      "execution_count": 8,
      "outputs": [
        {
          "output_type": "stream",
          "name": "stdout",
          "text": [
            "total 16\n",
            "drwxr-xr-x 2 root root 4096 Aug 24 15:20 data\n",
            "drwxr-xr-x 2 root root 4096 Aug 24 15:20 finassist\n",
            "drwxr-xr-x 3 root root 4096 Aug 24 15:35 notebooks\n",
            "-rw-r--r-- 1 root root   11 Aug 24 15:20 README.md\n"
          ]
        }
      ]
    },
    {
      "cell_type": "code",
      "source": [
        "%cd /content/FinAssist/notebooks\n",
        "!ls -l"
      ],
      "metadata": {
        "colab": {
          "base_uri": "https://localhost:8080/"
        },
        "id": "EcrXkHFavKQ6",
        "outputId": "9f285f85-1115-4774-9ee0-a2287adda357"
      },
      "execution_count": 9,
      "outputs": [
        {
          "output_type": "stream",
          "name": "stdout",
          "text": [
            "/content/FinAssist/notebooks\n",
            "total 4\n",
            "drwxr-xr-x 2 root root 4096 Aug 24 15:35 notebooks\n"
          ]
        }
      ]
    },
    {
      "cell_type": "code",
      "source": [
        "!ls -l /content/FinAssist/notebooks/notebooks\n"
      ],
      "metadata": {
        "colab": {
          "base_uri": "https://localhost:8080/"
        },
        "id": "0gGZQHlhvVAk",
        "outputId": "4864f408-8429-432a-c5e6-3934e5f40813"
      },
      "execution_count": 10,
      "outputs": [
        {
          "output_type": "stream",
          "name": "stdout",
          "text": [
            "total 0\n"
          ]
        }
      ]
    },
    {
      "cell_type": "code",
      "source": [
        "%cd /content\n",
        "!ls -l *.ipynb\n"
      ],
      "metadata": {
        "colab": {
          "base_uri": "https://localhost:8080/"
        },
        "id": "nlb8IJTMvcVF",
        "outputId": "f0b3a83e-f26b-4c3f-b559-dc6ce86c9d47"
      },
      "execution_count": 11,
      "outputs": [
        {
          "output_type": "stream",
          "name": "stdout",
          "text": [
            "/content\n",
            "ls: cannot access '*.ipynb': No such file or directory\n"
          ]
        }
      ]
    }
  ]
}